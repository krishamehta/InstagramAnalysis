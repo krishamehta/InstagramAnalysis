{
 "cells": [
  {
   "cell_type": "code",
   "execution_count": 5,
   "metadata": {
    "scrolled": true
   },
   "outputs": [
    {
     "name": "stdout",
     "output_type": "stream",
     "text": [
      "Request return 429 error!\n",
      "Login success!\n",
      "\n",
      "stopped\n"
     ]
    },
    {
     "data": {
      "text/plain": [
       "'https://instagram.fbom11-1.fna.fbcdn.net/t51.2885-19/s150x150/16110812_1861869747364637_4080094905429393408_a.jpg'"
      ]
     },
     "metadata": {},
     "output_type": "display_data"
    }
   ],
   "source": [
    "#Data analaysis using Instagram\n",
    "from IPython.display import Image\n",
    "from IPython.display import display\n",
    "\n",
    "from InstagramAPI import InstagramAPI\n",
    "username=\"krisha_mehta\"\n",
    "InstagramAPI = InstagramAPI(username,\"prideandprejudice\")\n",
    "InstagramAPI.login()\n",
    "\n",
    "InstagramAPI.getProfileData()\n",
    "result = InstagramAPI.LastJson\n",
    "#print(result)\n",
    "#All the results are stored in Json format\n",
    "\n",
    "#print (result['user']['biography'])\n",
    "\n",
    "InstagramAPI.timelineFeed()\n",
    "#result1 = InstagramAPI.LastJson\n",
    "#print(result1[text])\n",
    "\n",
    "#Get_posts_from_list()\n",
    "#Get_url()\n",
    "#image_urls = InstagramAPI.LastJson\n",
    "#image_urls\n",
    "\n",
    "\n",
    "\n",
    "import time\n",
    "myposts=[]\n",
    "has_more_posts = True\n",
    "max_id=\"\"\n",
    "\n",
    "while has_more_posts:\n",
    "    InstagramAPI.getSelfUserFeed(maxid=max_id)\n",
    "    if InstagramAPI.LastJson['more_available'] is not True:\n",
    "        has_more_posts = False #stop condition\n",
    "        print (\"stopped\")\n",
    "    \n",
    "    max_id = InstagramAPI.LastJson.get('next_max_id','')\n",
    "    myposts.extend(InstagramAPI.LastJson['items']) #merge lists\n",
    "    time.sleep(2) # Slows the script down to avoid flooding the servers \n",
    "    \n",
    "profile_pic = myposts[0]['caption']['user']['profile_pic_url']\n",
    "img = Image(profile_pic)\n",
    "display(profile_pic)\n",
    "\n",
    "\n"
   ]
  },
  {
   "cell_type": "code",
   "execution_count": null,
   "metadata": {
    "collapsed": true
   },
   "outputs": [],
   "source": []
  }
 ],
 "metadata": {
  "kernelspec": {
   "display_name": "Python 3",
   "language": "python",
   "name": "python3"
  },
  "language_info": {
   "codemirror_mode": {
    "name": "ipython",
    "version": 3
   },
   "file_extension": ".py",
   "mimetype": "text/x-python",
   "name": "python",
   "nbconvert_exporter": "python",
   "pygments_lexer": "ipython3",
   "version": "3.6.1"
  }
 },
 "nbformat": 4,
 "nbformat_minor": 2
}
